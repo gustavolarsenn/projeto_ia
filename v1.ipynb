{
 "cells": [
  {
   "cell_type": "code",
   "execution_count": 53,
   "metadata": {},
   "outputs": [],
   "source": [
    "grafo_conexoes = {\n",
    "  'A': {'B': 5, 'D': 2},\n",
    "  'B': {'C': 3, 'A': 5},\n",
    "  'C': {'B': 3, 'D': 8},\n",
    "  'D': {'A': 2, 'C': 8},\n",
    "}\n",
    "\n",
    "entregas = [\n",
    "    {'inicio': 0, 'destino': 'B', 'bonus': 1},\n",
    "    {'inicio': 5, 'destino': 'C', 'bonus': 10},\n",
    "    {'inicio': 10, 'destino': 'D', 'bonus': 8},\n",
    "]"
   ]
  },
  {
   "cell_type": "code",
   "execution_count": 78,
   "metadata": {},
   "outputs": [],
   "source": [
    "from itertools import permutations\n",
    "\n",
    "combinacoes = list(permutations(entregas))"
   ]
  },
  {
   "cell_type": "code",
   "execution_count": null,
   "metadata": {},
   "outputs": [],
   "source": [
    "# Função para encontrar a distância mínima entre dois nós usando uma abordagem iterativa\n",
    "def buscar_distancia(grafo, no_origem, no_destino):\n",
    "    # Stack para implementar DFS, contendo (nó atual, distância até aqui, caminho percorrido)\n",
    "    stack = [(no_origem, 0, set())]\n",
    "    menor_distancia = float('inf')\n",
    "\n",
    "    while stack:\n",
    "        no_atual, distancia_atual, visitados = stack.pop()\n",
    "        \n",
    "        # Se o nó atual for o destino, verifica se a distância é a menor\n",
    "        if no_atual == no_destino:\n",
    "            menor_distancia = min(menor_distancia, distancia_atual)\n",
    "            continue\n",
    "\n",
    "        # Marca o nó atual como visitado para evitar ciclos\n",
    "        visitados.add(no_atual)\n",
    "\n",
    "        # Explora os vizinhos do nó atual\n",
    "        for vizinho, distancia in grafo[no_atual].items():\n",
    "            if vizinho not in visitados:\n",
    "                # Adiciona o vizinho à stack com a distância atualizada\n",
    "                stack.append((vizinho, distancia_atual + distancia, visitados.copy()))\n",
    "    \n",
    "    # Se a menor distância nunca foi atualizada, retorna None (significa que não há caminho)\n",
    "    return menor_distancia if menor_distancia != float('inf') else None"
   ]
  },
  {
   "cell_type": "code",
   "execution_count": 77,
   "metadata": {},
   "outputs": [
    {
     "name": "stdout",
     "output_type": "stream",
     "text": [
      "Entrega para B a partir do tempo 0 com bônus de 1\n",
      "Entrega para D a partir do tempo 10 com bônus de 8\n",
      "Bônus total: 9\n",
      "\n",
      "Entrega para B a partir do tempo 0 com bônus de 1\n",
      "Entrega para D a partir do tempo 10 com bônus de 8\n",
      "Bônus total: 9\n",
      "\n",
      "Entrega para C a partir do tempo 5 com bônus de 10\n",
      "Bônus total: 10\n",
      "\n",
      "Entrega para C a partir do tempo 5 com bônus de 10\n",
      "Bônus total: 10\n",
      "\n",
      "Entrega para D a partir do tempo 10 com bônus de 8\n",
      "Bônus total: 8\n",
      "\n",
      "Entrega para D a partir do tempo 10 com bônus de 8\n",
      "Bônus total: 8\n",
      "\n",
      "Maior bônus: {'entregas': [(5, 'C', 10)], 'bonus_total': 10}\n",
      "Maior número de entregas: {'entregas': [(0, 'B', 1), (10, 'D', 8)], 'bonus_total': 9}\n"
     ]
    }
   ],
   "source": [
    "maior_bonus = {'entregas': [], 'bonus_total': 0}\n",
    "maior_entregas = {'entregas': [], 'bonus_total': 0}\n",
    "\n",
    "for idx, combinacao in enumerate(combinacoes, 1):\n",
    "    tempo_inicio = 0\n",
    "    bonus_total = 0\n",
    "\n",
    "    tempo_atual = tempo_inicio\n",
    "\n",
    "    entregas_feitas = []\n",
    "    for entrega in combinacao:\n",
    "\n",
    "        destino = entrega['destino']\n",
    "        bonus = entrega['bonus']\n",
    "        inicio = entrega['inicio']\n",
    "\n",
    "        if tempo_atual <= inicio:\n",
    "            entregas_feitas.append((inicio, destino, bonus))\n",
    "            print(f'Entrega para {destino} a partir do tempo {inicio} com bônus de {bonus}')\n",
    "            tempo_atual = inicio\n",
    "\n",
    "            tempo_atual += buscar_distancia(grafo_conexoes, 'A', destino)*2\n",
    "\n",
    "            bonus_total += bonus\n",
    "        else:\n",
    "            continue\n",
    "    \n",
    "    if bonus_total > maior_bonus['bonus_total']:\n",
    "        maior_bonus['entregas'] = entregas_feitas\n",
    "        maior_bonus['bonus_total'] = bonus_total\n",
    "\n",
    "    if len(entregas_feitas) > len(maior_entregas['entregas']):\n",
    "        maior_entregas['entregas'] = entregas_feitas\n",
    "        maior_entregas['bonus_total'] = bonus_total\n",
    "\n",
    "    print(f'Bônus total: {bonus_total}\\n')\n",
    "\n",
    "print(f'Maior bônus: {maior_bonus}')\n",
    "print(f'Maior número de entregas: {maior_entregas}')\n"
   ]
  },
  {
   "cell_type": "markdown",
   "metadata": {},
   "source": [
    "### Usando IA"
   ]
  }
 ],
 "metadata": {
  "kernelspec": {
   "display_name": "Python 3",
   "language": "python",
   "name": "python3"
  },
  "language_info": {
   "codemirror_mode": {
    "name": "ipython",
    "version": 3
   },
   "file_extension": ".py",
   "mimetype": "text/x-python",
   "name": "python",
   "nbconvert_exporter": "python",
   "pygments_lexer": "ipython3",
   "version": "3.12.4"
  }
 },
 "nbformat": 4,
 "nbformat_minor": 2
}
